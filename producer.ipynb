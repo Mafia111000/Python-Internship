{
 "cells": [
  {
   "cell_type": "code",
   "execution_count": 43,
   "metadata": {},
   "outputs": [],
   "source": [
    "import requests\n",
    "import json\n",
    "import cv2\n",
    "import time\n",
    "import asyncio\n",
    "from kafka import KafkaProducer\n",
    "from time import sleep\n",
    "import json \n",
    "from datetime import datetime"
   ]
  },
  {
   "cell_type": "code",
   "execution_count": 52,
   "metadata": {},
   "outputs": [
    {
     "name": "stdout",
     "output_type": "stream",
     "text": [
      "sent\n"
     ]
    }
   ],
   "source": [
    "addr1 = 'https://www.thecocktaildb.com/api/json/v1/1/random.php'\n",
    "addr2='https://randomuser.me/api/'\n",
    "def mafia():\n",
    "    response = requests.post(addr1)\n",
    "   \n",
    "    return json.loads(response.text)\n",
    "\n",
    "def mafia2():\n",
    "    response = requests.get(addr2).json()\n",
    "    return response   \n",
    "\n",
    "for i in range(1):\n",
    "    a=mafia()\n",
    "    b=mafia2()\n",
    "    producer = KafkaProducer(bootstrap_servers=['localhost:9092'],api_version=(0, 10, 1))\n",
    "    message1 ={'id':'drinks','data':a['drinks'][0]}\n",
    "    message2={'id':'user','data':b['results'][0]}\n",
    "    #print(message1)\n",
    "    producer.send('internship', json.dumps(message1).encode('utf-8'))\n",
    "    producer.send('internship', json.dumps(message2).encode('utf-8'))\n",
    "    producer.flush()\n",
    "    print('sent')\n",
    "    sleep(5)"
   ]
  },
  {
   "cell_type": "markdown",
   "metadata": {},
   "source": [
    "*kafka commands*\n",
    "\n",
    "\n",
    "bin\\windows\\zookeeper-server-start.sh config\\zookeeper.properties\n",
    ".\\bin\\windows\\kafka-server-start.bat .\\config\\server.properties\n",
    "#create topic\n",
    "bin\\windows\\kafka-topics.sh --create --zookeeper localhost:2181 --replication-factor 1 --partitions 1 --topic internship\n",
    "  \n",
    " bin\\windows\\kafka-console-producer.bat --broker-list localhost:9092 --topic internship"
   ]
  },
  {
   "cell_type": "code",
   "execution_count": null,
   "metadata": {},
   "outputs": [],
   "source": []
  }
 ],
 "metadata": {
  "kernelspec": {
   "display_name": "Python 3",
   "language": "python",
   "name": "python3"
  },
  "language_info": {
   "codemirror_mode": {
    "name": "ipython",
    "version": 3
   },
   "file_extension": ".py",
   "mimetype": "text/x-python",
   "name": "python",
   "nbconvert_exporter": "python",
   "pygments_lexer": "ipython3",
   "version": "3.7.6"
  }
 },
 "nbformat": 4,
 "nbformat_minor": 4
}
